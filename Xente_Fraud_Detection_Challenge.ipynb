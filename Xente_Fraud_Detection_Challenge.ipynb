{
  "nbformat": 4,
  "nbformat_minor": 0,
  "metadata": {
    "colab": {
      "name": "Xente Fraud Detection Challenge.ipynb",
      "version": "0.3.2",
      "provenance": [],
      "collapsed_sections": [],
      "toc_visible": true,
      "include_colab_link": true
    },
    "kernelspec": {
      "name": "python3",
      "display_name": "Python 3"
    },
    "accelerator": "GPU"
  },
  "cells": [
    {
      "cell_type": "markdown",
      "metadata": {
        "id": "view-in-github",
        "colab_type": "text"
      },
      "source": [
        "<a href=\"https://colab.research.google.com/github/torpedo-jamie/Xente-Fraud-Detection-Challenge/blob/master/Xente_Fraud_Detection_Challenge.ipynb\" target=\"_parent\"><img src=\"https://colab.research.google.com/assets/colab-badge.svg\" alt=\"Open In Colab\"/></a>"
      ]
    },
    {
      "cell_type": "code",
      "metadata": {
        "id": "ZARdRCOKZoGM",
        "colab_type": "code",
        "colab": {
          "base_uri": "https://localhost:8080/",
          "height": 34
        },
        "outputId": "3a12a285-e50f-4e9b-c5a9-7fa28c56b04c"
      },
      "source": [
        "from google.colab import drive\n",
        "drive.mount('/gdrive')"
      ],
      "execution_count": 164,
      "outputs": [
        {
          "output_type": "stream",
          "text": [
            "Drive already mounted at /gdrive; to attempt to forcibly remount, call drive.mount(\"/gdrive\", force_remount=True).\n"
          ],
          "name": "stdout"
        }
      ]
    },
    {
      "cell_type": "code",
      "metadata": {
        "id": "a36jueDPiRZu",
        "colab_type": "code",
        "colab": {}
      },
      "source": [
        "# importing necessary modules\n",
        "import numpy as np\n",
        "import pandas as pd\n",
        "import matplotlib.pyplot as plt\n",
        "%matplotlib inline\n",
        "import seaborn as sns\n",
        "\n",
        "from sklearn.linear_model import LogisticRegression\n",
        "from sklearn.ensemble import RandomForestClassifier\n",
        "from sklearn.model_selection import GridSearchCV\n",
        "from sklearn.model_selection import train_test_split\n",
        "from sklearn.metrics import accuracy_score, f1_score\n",
        "from imblearn.over_sampling import SMOTE\n",
        "\n",
        "import warnings\n",
        "warnings.filterwarnings(\"ignore\")"
      ],
      "execution_count": 0,
      "outputs": []
    },
    {
      "cell_type": "markdown",
      "metadata": {
        "id": "SojJCqR7nXz5",
        "colab_type": "text"
      },
      "source": [
        "# Loading train and test data"
      ]
    },
    {
      "cell_type": "code",
      "metadata": {
        "id": "9I0v8AWJiuHN",
        "colab_type": "code",
        "colab": {}
      },
      "source": [
        "# importing train and test data from my google drive\n",
        "train = pd.read_csv('/gdrive/My Drive/XenteChallenge/training.csv')\n",
        "test = pd.read_csv('/gdrive/My Drive/XenteChallenge/test.csv')"
      ],
      "execution_count": 0,
      "outputs": []
    },
    {
      "cell_type": "code",
      "metadata": {
        "id": "MZOg0jhLlRo2",
        "colab_type": "code",
        "colab": {
          "base_uri": "https://localhost:8080/",
          "height": 224
        },
        "outputId": "eef5ea51-b4f6-4df4-ae11-1e1e4f6e6640"
      },
      "source": [
        "train.head()"
      ],
      "execution_count": 410,
      "outputs": [
        {
          "output_type": "execute_result",
          "data": {
            "text/html": [
              "<div>\n",
              "<style scoped>\n",
              "    .dataframe tbody tr th:only-of-type {\n",
              "        vertical-align: middle;\n",
              "    }\n",
              "\n",
              "    .dataframe tbody tr th {\n",
              "        vertical-align: top;\n",
              "    }\n",
              "\n",
              "    .dataframe thead th {\n",
              "        text-align: right;\n",
              "    }\n",
              "</style>\n",
              "<table border=\"1\" class=\"dataframe\">\n",
              "  <thead>\n",
              "    <tr style=\"text-align: right;\">\n",
              "      <th></th>\n",
              "      <th>TransactionId</th>\n",
              "      <th>BatchId</th>\n",
              "      <th>AccountId</th>\n",
              "      <th>SubscriptionId</th>\n",
              "      <th>CustomerId</th>\n",
              "      <th>CurrencyCode</th>\n",
              "      <th>CountryCode</th>\n",
              "      <th>ProviderId</th>\n",
              "      <th>ProductId</th>\n",
              "      <th>ProductCategory</th>\n",
              "      <th>ChannelId</th>\n",
              "      <th>Amount</th>\n",
              "      <th>Value</th>\n",
              "      <th>TransactionStartTime</th>\n",
              "      <th>PricingStrategy</th>\n",
              "      <th>FraudResult</th>\n",
              "    </tr>\n",
              "  </thead>\n",
              "  <tbody>\n",
              "    <tr>\n",
              "      <th>0</th>\n",
              "      <td>TransactionId_76871</td>\n",
              "      <td>BatchId_36123</td>\n",
              "      <td>AccountId_3957</td>\n",
              "      <td>SubscriptionId_887</td>\n",
              "      <td>CustomerId_4406</td>\n",
              "      <td>UGX</td>\n",
              "      <td>256</td>\n",
              "      <td>ProviderId_6</td>\n",
              "      <td>ProductId_10</td>\n",
              "      <td>airtime</td>\n",
              "      <td>ChannelId_3</td>\n",
              "      <td>1000.0</td>\n",
              "      <td>1000</td>\n",
              "      <td>2018-11-15T02:18:49Z</td>\n",
              "      <td>2</td>\n",
              "      <td>0</td>\n",
              "    </tr>\n",
              "    <tr>\n",
              "      <th>1</th>\n",
              "      <td>TransactionId_73770</td>\n",
              "      <td>BatchId_15642</td>\n",
              "      <td>AccountId_4841</td>\n",
              "      <td>SubscriptionId_3829</td>\n",
              "      <td>CustomerId_4406</td>\n",
              "      <td>UGX</td>\n",
              "      <td>256</td>\n",
              "      <td>ProviderId_4</td>\n",
              "      <td>ProductId_6</td>\n",
              "      <td>financial_services</td>\n",
              "      <td>ChannelId_2</td>\n",
              "      <td>-20.0</td>\n",
              "      <td>20</td>\n",
              "      <td>2018-11-15T02:19:08Z</td>\n",
              "      <td>2</td>\n",
              "      <td>0</td>\n",
              "    </tr>\n",
              "    <tr>\n",
              "      <th>2</th>\n",
              "      <td>TransactionId_26203</td>\n",
              "      <td>BatchId_53941</td>\n",
              "      <td>AccountId_4229</td>\n",
              "      <td>SubscriptionId_222</td>\n",
              "      <td>CustomerId_4683</td>\n",
              "      <td>UGX</td>\n",
              "      <td>256</td>\n",
              "      <td>ProviderId_6</td>\n",
              "      <td>ProductId_1</td>\n",
              "      <td>airtime</td>\n",
              "      <td>ChannelId_3</td>\n",
              "      <td>500.0</td>\n",
              "      <td>500</td>\n",
              "      <td>2018-11-15T02:44:21Z</td>\n",
              "      <td>2</td>\n",
              "      <td>0</td>\n",
              "    </tr>\n",
              "    <tr>\n",
              "      <th>3</th>\n",
              "      <td>TransactionId_380</td>\n",
              "      <td>BatchId_102363</td>\n",
              "      <td>AccountId_648</td>\n",
              "      <td>SubscriptionId_2185</td>\n",
              "      <td>CustomerId_988</td>\n",
              "      <td>UGX</td>\n",
              "      <td>256</td>\n",
              "      <td>ProviderId_1</td>\n",
              "      <td>ProductId_21</td>\n",
              "      <td>utility_bill</td>\n",
              "      <td>ChannelId_3</td>\n",
              "      <td>20000.0</td>\n",
              "      <td>21800</td>\n",
              "      <td>2018-11-15T03:32:55Z</td>\n",
              "      <td>2</td>\n",
              "      <td>0</td>\n",
              "    </tr>\n",
              "    <tr>\n",
              "      <th>4</th>\n",
              "      <td>TransactionId_28195</td>\n",
              "      <td>BatchId_38780</td>\n",
              "      <td>AccountId_4841</td>\n",
              "      <td>SubscriptionId_3829</td>\n",
              "      <td>CustomerId_988</td>\n",
              "      <td>UGX</td>\n",
              "      <td>256</td>\n",
              "      <td>ProviderId_4</td>\n",
              "      <td>ProductId_6</td>\n",
              "      <td>financial_services</td>\n",
              "      <td>ChannelId_2</td>\n",
              "      <td>-644.0</td>\n",
              "      <td>644</td>\n",
              "      <td>2018-11-15T03:34:21Z</td>\n",
              "      <td>2</td>\n",
              "      <td>0</td>\n",
              "    </tr>\n",
              "  </tbody>\n",
              "</table>\n",
              "</div>"
            ],
            "text/plain": [
              "         TransactionId         BatchId  ... PricingStrategy FraudResult\n",
              "0  TransactionId_76871   BatchId_36123  ...               2           0\n",
              "1  TransactionId_73770   BatchId_15642  ...               2           0\n",
              "2  TransactionId_26203   BatchId_53941  ...               2           0\n",
              "3    TransactionId_380  BatchId_102363  ...               2           0\n",
              "4  TransactionId_28195   BatchId_38780  ...               2           0\n",
              "\n",
              "[5 rows x 16 columns]"
            ]
          },
          "metadata": {
            "tags": []
          },
          "execution_count": 410
        }
      ]
    },
    {
      "cell_type": "code",
      "metadata": {
        "id": "N4p2iZ9dl9KY",
        "colab_type": "code",
        "colab": {
          "base_uri": "https://localhost:8080/",
          "height": 374
        },
        "outputId": "31f47cae-6ba3-4ed1-a59a-f9b134fa8413"
      },
      "source": [
        "train.info()"
      ],
      "execution_count": 411,
      "outputs": [
        {
          "output_type": "stream",
          "text": [
            "<class 'pandas.core.frame.DataFrame'>\n",
            "RangeIndex: 95662 entries, 0 to 95661\n",
            "Data columns (total 16 columns):\n",
            "TransactionId           95662 non-null object\n",
            "BatchId                 95662 non-null object\n",
            "AccountId               95662 non-null object\n",
            "SubscriptionId          95662 non-null object\n",
            "CustomerId              95662 non-null object\n",
            "CurrencyCode            95662 non-null object\n",
            "CountryCode             95662 non-null int64\n",
            "ProviderId              95662 non-null object\n",
            "ProductId               95662 non-null object\n",
            "ProductCategory         95662 non-null object\n",
            "ChannelId               95662 non-null object\n",
            "Amount                  95662 non-null float64\n",
            "Value                   95662 non-null int64\n",
            "TransactionStartTime    95662 non-null object\n",
            "PricingStrategy         95662 non-null int64\n",
            "FraudResult             95662 non-null int64\n",
            "dtypes: float64(1), int64(4), object(11)\n",
            "memory usage: 11.7+ MB\n"
          ],
          "name": "stdout"
        }
      ]
    },
    {
      "cell_type": "markdown",
      "metadata": {
        "id": "1QwvlVArnlWH",
        "colab_type": "text"
      },
      "source": [
        "As we can see, there are 95662 rows and 16 columns. Fortunately there are no missing values so there is no need to fill in any missing values."
      ]
    },
    {
      "cell_type": "markdown",
      "metadata": {
        "id": "AYtNvon4lf5x",
        "colab_type": "text"
      },
      "source": [
        "# Data Processing"
      ]
    },
    {
      "cell_type": "markdown",
      "metadata": {
        "id": "UItVog-glqQo",
        "colab_type": "text"
      },
      "source": [
        "Our y value is the FraudResult variable. This variable tells us whether a fraudulent transaction took place or not. The result in this column is 1 if a fraudulent transaction took place and 0 if not."
      ]
    },
    {
      "cell_type": "code",
      "metadata": {
        "id": "Cg3SZ10js97u",
        "colab_type": "code",
        "colab": {}
      },
      "source": [
        "y = train['FraudResult']"
      ],
      "execution_count": 0,
      "outputs": []
    },
    {
      "cell_type": "markdown",
      "metadata": {
        "id": "vQiIFWp-mn0P",
        "colab_type": "text"
      },
      "source": [
        "I've decided to drop a few columns and keep the following columns: 'ProviderId', 'ProductId', 'ProductCategory', 'ChannelId', 'Amount', 'Value', 'PricingStrategy'. I dropped columns that were id columns and columns that only had one unique value in all the rows."
      ]
    },
    {
      "cell_type": "code",
      "metadata": {
        "id": "N_jK6nQGs-H-",
        "colab_type": "code",
        "colab": {}
      },
      "source": [
        "X = train[['ProviderId', 'ProductId', 'ProductCategory', 'ChannelId', 'Amount', 'Value', 'PricingStrategy']]"
      ],
      "execution_count": 0,
      "outputs": []
    },
    {
      "cell_type": "markdown",
      "metadata": {
        "id": "s6Q6HkytBgVr",
        "colab_type": "text"
      },
      "source": [
        "**Looking at the distribustion of ProviderId** "
      ]
    },
    {
      "cell_type": "code",
      "metadata": {
        "id": "JRbbRF4ZnFxC",
        "colab_type": "code",
        "colab": {}
      },
      "source": [
        "sns.set(style=\"darkgrid\")"
      ],
      "execution_count": 0,
      "outputs": []
    },
    {
      "cell_type": "code",
      "metadata": {
        "id": "gYtm9op0s-R2",
        "colab_type": "code",
        "colab": {
          "base_uri": "https://localhost:8080/",
          "height": 337
        },
        "outputId": "a026da8a-2bd0-45d3-db37-a1170a154115"
      },
      "source": [
        "plt.figure(figsize=[8,4])\n",
        "sns.countplot(x='ProviderId', data=X, palette='husl')\n",
        "plt.xticks(rotation=45)\n",
        "plt.show()"
      ],
      "execution_count": 415,
      "outputs": [
        {
          "output_type": "display_data",
          "data": {
            "image/png": "[encoded data removed]",
            "text/plain": [
              "<Figure size 576x288 with 1 Axes>"
            ]
          },
          "metadata": {
            "tags": []
          }
        }
      ]
    },
    {
      "cell_type": "markdown",
      "metadata": {
        "id": "SGthOn4-CTyx",
        "colab_type": "text"
      },
      "source": [
        "**Looking at the distribustion of ProductId** "
      ]
    },
    {
      "cell_type": "code",
      "metadata": {
        "id": "JYUfksIGB9_4",
        "colab_type": "code",
        "colab": {
          "base_uri": "https://localhost:8080/",
          "height": 340
        },
        "outputId": "c7e3c6a9-bbf2-4a9f-f655-71d4521a2906"
      },
      "source": [
        "plt.figure(figsize=[8,4])\n",
        "sns.countplot(x='ProductId', data=X, palette='husl')\n",
        "plt.xticks(rotation=45)\n",
        "plt.show()"
      ],
      "execution_count": 416,
      "outputs": [
        {
          "output_type": "display_data",
          "data": {
            "image/png": "[encoded data removed]",
            "text/plain": [
              "<Figure size 576x288 with 1 Axes>"
            ]
          },
          "metadata": {
            "tags": []
          }
        }
      ]
    },
    {
      "cell_type": "markdown",
      "metadata": {
        "id": "DEQBLINZBhMB",
        "colab_type": "text"
      },
      "source": [
        "**Looking at the distribustion of ProductCategory** "
      ]
    },
    {
      "cell_type": "code",
      "metadata": {
        "id": "hfXycfmP8fpc",
        "colab_type": "code",
        "colab": {
          "base_uri": "https://localhost:8080/",
          "height": 358
        },
        "outputId": "2f82d787-2346-4e70-81f3-50971fcd95a8"
      },
      "source": [
        "plt.figure(figsize=[8,4])\n",
        "sns.countplot(x='ProductCategory', data=X, palette='husl')\n",
        "plt.xticks(rotation=45)\n",
        "plt.show()"
      ],
      "execution_count": 417,
      "outputs": [
        {
          "output_type": "display_data",
          "data": {
            "image/png": "[encoded data removed]",
            "text/plain": [
              "<Figure size 576x288 with 1 Axes>"
            ]
          },
          "metadata": {
            "tags": []
          }
        }
      ]
    },
    {
      "cell_type": "markdown",
      "metadata": {
        "id": "Hls_PA-9BiH6",
        "colab_type": "text"
      },
      "source": [
        "**Looking at the distribustion of ChannelId** "
      ]
    },
    {
      "cell_type": "code",
      "metadata": {
        "id": "ys0kYkKL8ftF",
        "colab_type": "code",
        "colab": {
          "base_uri": "https://localhost:8080/",
          "height": 337
        },
        "outputId": "92a996c3-e059-4f45-997f-61efb6b57a8a"
      },
      "source": [
        "plt.figure(figsize=[8,4])\n",
        "sns.countplot(x='ChannelId', data=X, palette='husl')\n",
        "plt.xticks(rotation=45)\n",
        "plt.show()"
      ],
      "execution_count": 418,
      "outputs": [
        {
          "output_type": "display_data",
          "data": {
            "image/png": "[encoded data removed]",
            "text/plain": [
              "<Figure size 576x288 with 1 Axes>"
            ]
          },
          "metadata": {
            "tags": []
          }
        }
      ]
    },
    {
      "cell_type": "markdown",
      "metadata": {
        "id": "rYTExqmMBryz",
        "colab_type": "text"
      },
      "source": [
        "**Looking at the distribustion of PriceStrategy** "
      ]
    },
    {
      "cell_type": "code",
      "metadata": {
        "id": "bxkxP4eK8fwY",
        "colab_type": "code",
        "colab": {
          "base_uri": "https://localhost:8080/",
          "height": 293
        },
        "outputId": "ac20508f-b1ec-47e2-8d6c-c6a2ecf7415d"
      },
      "source": [
        "plt.figure(figsize=[8,4])\n",
        "sns.countplot(x='PricingStrategy', data=X, palette='husl')\n",
        "plt.xticks(rotation=45)\n",
        "plt.show()"
      ],
      "execution_count": 419,
      "outputs": [
        {
          "output_type": "display_data",
          "data": {
            "image/png": "[encoded data removed]",
            "text/plain": [
              "<Figure size 576x288 with 1 Axes>"
            ]
          },
          "metadata": {
            "tags": []
          }
        }
      ]
    },
    {
      "cell_type": "markdown",
      "metadata": {
        "id": "V0AEWn5loJiB",
        "colab_type": "text"
      },
      "source": [
        "# Encoding Categories"
      ]
    },
    {
      "cell_type": "markdown",
      "metadata": {
        "id": "Wu1viX0QpmFH",
        "colab_type": "text"
      },
      "source": [
        "Looking at the number of unique values in the train dataset and the number of unique values in the test dataset to see if one contains more or less of the other."
      ]
    },
    {
      "cell_type": "code",
      "metadata": {
        "id": "YEGkkpEPl9dQ",
        "colab_type": "code",
        "colab": {
          "base_uri": "https://localhost:8080/",
          "height": 545
        },
        "outputId": "d8441317-e464-4da1-ffd3-cc151493921e"
      },
      "source": [
        "unique_vals = pd.DataFrame(index=train.columns, columns=['No. unique values'], data=train.nunique().get_values())\n",
        "unique_vals"
      ],
      "execution_count": 422,
      "outputs": [
        {
          "output_type": "execute_result",
          "data": {
            "text/html": [
              "<div>\n",
              "<style scoped>\n",
              "    .dataframe tbody tr th:only-of-type {\n",
              "        vertical-align: middle;\n",
              "    }\n",
              "\n",
              "    .dataframe tbody tr th {\n",
              "        vertical-align: top;\n",
              "    }\n",
              "\n",
              "    .dataframe thead th {\n",
              "        text-align: right;\n",
              "    }\n",
              "</style>\n",
              "<table border=\"1\" class=\"dataframe\">\n",
              "  <thead>\n",
              "    <tr style=\"text-align: right;\">\n",
              "      <th></th>\n",
              "      <th>No. unique values</th>\n",
              "    </tr>\n",
              "  </thead>\n",
              "  <tbody>\n",
              "    <tr>\n",
              "      <th>TransactionId</th>\n",
              "      <td>95662</td>\n",
              "    </tr>\n",
              "    <tr>\n",
              "      <th>BatchId</th>\n",
              "      <td>94809</td>\n",
              "    </tr>\n",
              "    <tr>\n",
              "      <th>AccountId</th>\n",
              "      <td>3633</td>\n",
              "    </tr>\n",
              "    <tr>\n",
              "      <th>SubscriptionId</th>\n",
              "      <td>3627</td>\n",
              "    </tr>\n",
              "    <tr>\n",
              "      <th>CustomerId</th>\n",
              "      <td>3742</td>\n",
              "    </tr>\n",
              "    <tr>\n",
              "      <th>CurrencyCode</th>\n",
              "      <td>1</td>\n",
              "    </tr>\n",
              "    <tr>\n",
              "      <th>CountryCode</th>\n",
              "      <td>1</td>\n",
              "    </tr>\n",
              "    <tr>\n",
              "      <th>ProviderId</th>\n",
              "      <td>6</td>\n",
              "    </tr>\n",
              "    <tr>\n",
              "      <th>ProductId</th>\n",
              "      <td>23</td>\n",
              "    </tr>\n",
              "    <tr>\n",
              "      <th>ProductCategory</th>\n",
              "      <td>9</td>\n",
              "    </tr>\n",
              "    <tr>\n",
              "      <th>ChannelId</th>\n",
              "      <td>4</td>\n",
              "    </tr>\n",
              "    <tr>\n",
              "      <th>Amount</th>\n",
              "      <td>1676</td>\n",
              "    </tr>\n",
              "    <tr>\n",
              "      <th>Value</th>\n",
              "      <td>1517</td>\n",
              "    </tr>\n",
              "    <tr>\n",
              "      <th>TransactionStartTime</th>\n",
              "      <td>94556</td>\n",
              "    </tr>\n",
              "    <tr>\n",
              "      <th>PricingStrategy</th>\n",
              "      <td>4</td>\n",
              "    </tr>\n",
              "    <tr>\n",
              "      <th>FraudResult</th>\n",
              "      <td>2</td>\n",
              "    </tr>\n",
              "  </tbody>\n",
              "</table>\n",
              "</div>"
            ],
            "text/plain": [
              "                      No. unique values\n",
              "TransactionId                     95662\n",
              "BatchId                           94809\n",
              "AccountId                          3633\n",
              "SubscriptionId                     3627\n",
              "CustomerId                         3742\n",
              "CurrencyCode                          1\n",
              "CountryCode                           1\n",
              "ProviderId                            6\n",
              "ProductId                            23\n",
              "ProductCategory                       9\n",
              "ChannelId                             4\n",
              "Amount                             1676\n",
              "Value                              1517\n",
              "TransactionStartTime              94556\n",
              "PricingStrategy                       4\n",
              "FraudResult                           2"
            ]
          },
          "metadata": {
            "tags": []
          },
          "execution_count": 422
        }
      ]
    },
    {
      "cell_type": "code",
      "metadata": {
        "id": "ZIGAbK1UF9gb",
        "colab_type": "code",
        "colab": {
          "base_uri": "https://localhost:8080/",
          "height": 514
        },
        "outputId": "4a952128-0d77-4453-c5fb-9d482463b5a6"
      },
      "source": [
        "test_unique_vals = pd.DataFrame(index=test.columns, columns=['No. unique values'], data=test.nunique().get_values())\n",
        "test_unique_vals"
      ],
      "execution_count": 423,
      "outputs": [
        {
          "output_type": "execute_result",
          "data": {
            "text/html": [
              "<div>\n",
              "<style scoped>\n",
              "    .dataframe tbody tr th:only-of-type {\n",
              "        vertical-align: middle;\n",
              "    }\n",
              "\n",
              "    .dataframe tbody tr th {\n",
              "        vertical-align: top;\n",
              "    }\n",
              "\n",
              "    .dataframe thead th {\n",
              "        text-align: right;\n",
              "    }\n",
              "</style>\n",
              "<table border=\"1\" class=\"dataframe\">\n",
              "  <thead>\n",
              "    <tr style=\"text-align: right;\">\n",
              "      <th></th>\n",
              "      <th>No. unique values</th>\n",
              "    </tr>\n",
              "  </thead>\n",
              "  <tbody>\n",
              "    <tr>\n",
              "      <th>TransactionId</th>\n",
              "      <td>45019</td>\n",
              "    </tr>\n",
              "    <tr>\n",
              "      <th>BatchId</th>\n",
              "      <td>44684</td>\n",
              "    </tr>\n",
              "    <tr>\n",
              "      <th>AccountId</th>\n",
              "      <td>2471</td>\n",
              "    </tr>\n",
              "    <tr>\n",
              "      <th>SubscriptionId</th>\n",
              "      <td>2470</td>\n",
              "    </tr>\n",
              "    <tr>\n",
              "      <th>CustomerId</th>\n",
              "      <td>5018</td>\n",
              "    </tr>\n",
              "    <tr>\n",
              "      <th>CurrencyCode</th>\n",
              "      <td>1</td>\n",
              "    </tr>\n",
              "    <tr>\n",
              "      <th>CountryCode</th>\n",
              "      <td>1</td>\n",
              "    </tr>\n",
              "    <tr>\n",
              "      <th>ProviderId</th>\n",
              "      <td>6</td>\n",
              "    </tr>\n",
              "    <tr>\n",
              "      <th>ProductId</th>\n",
              "      <td>26</td>\n",
              "    </tr>\n",
              "    <tr>\n",
              "      <th>ProductCategory</th>\n",
              "      <td>9</td>\n",
              "    </tr>\n",
              "    <tr>\n",
              "      <th>ChannelId</th>\n",
              "      <td>5</td>\n",
              "    </tr>\n",
              "    <tr>\n",
              "      <th>Amount</th>\n",
              "      <td>998</td>\n",
              "    </tr>\n",
              "    <tr>\n",
              "      <th>Value</th>\n",
              "      <td>944</td>\n",
              "    </tr>\n",
              "    <tr>\n",
              "      <th>TransactionStartTime</th>\n",
              "      <td>44018</td>\n",
              "    </tr>\n",
              "    <tr>\n",
              "      <th>PricingStrategy</th>\n",
              "      <td>4</td>\n",
              "    </tr>\n",
              "  </tbody>\n",
              "</table>\n",
              "</div>"
            ],
            "text/plain": [
              "                      No. unique values\n",
              "TransactionId                     45019\n",
              "BatchId                           44684\n",
              "AccountId                          2471\n",
              "SubscriptionId                     2470\n",
              "CustomerId                         5018\n",
              "CurrencyCode                          1\n",
              "CountryCode                           1\n",
              "ProviderId                            6\n",
              "ProductId                            26\n",
              "ProductCategory                       9\n",
              "ChannelId                             5\n",
              "Amount                              998\n",
              "Value                               944\n",
              "TransactionStartTime              44018\n",
              "PricingStrategy                       4"
            ]
          },
          "metadata": {
            "tags": []
          },
          "execution_count": 423
        }
      ]
    },
    {
      "cell_type": "markdown",
      "metadata": {
        "id": "mmf9ZufNGaEx",
        "colab_type": "text"
      },
      "source": [
        "The test dataset has 3 addition product id's and 1 additional channel id. Let's see which those are and add them to our train dataset."
      ]
    },
    {
      "cell_type": "markdown",
      "metadata": {
        "id": "Fs5ANgW4qg-r",
        "colab_type": "text"
      },
      "source": [
        "**ProductId unique values**"
      ]
    },
    {
      "cell_type": "code",
      "metadata": {
        "id": "SFmDHKzAGXUD",
        "colab_type": "code",
        "colab": {
          "base_uri": "https://localhost:8080/",
          "height": 119
        },
        "outputId": "fea5b70c-402e-4b7c-8758-56e9488ef74c"
      },
      "source": [
        "train['ProductId'].unique()"
      ],
      "execution_count": 428,
      "outputs": [
        {
          "output_type": "execute_result",
          "data": {
            "text/plain": [
              "array(['ProductId_10', 'ProductId_6', 'ProductId_1', 'ProductId_21',\n",
              "       'ProductId_3', 'ProductId_15', 'ProductId_11', 'ProductId_19',\n",
              "       'ProductId_4', 'ProductId_5', 'ProductId_20', 'ProductId_9',\n",
              "       'ProductId_24', 'ProductId_14', 'ProductId_2', 'ProductId_13',\n",
              "       'ProductId_22', 'ProductId_8', 'ProductId_7', 'ProductId_27',\n",
              "       'ProductId_12', 'ProductId_16', 'ProductId_23'], dtype=object)"
            ]
          },
          "metadata": {
            "tags": []
          },
          "execution_count": 428
        }
      ]
    },
    {
      "cell_type": "code",
      "metadata": {
        "id": "EirJYdMhG9Ox",
        "colab_type": "code",
        "colab": {
          "base_uri": "https://localhost:8080/",
          "height": 136
        },
        "outputId": "7a2f0aaa-0611-417e-a714-9c0c9f54dd64"
      },
      "source": [
        "test['ProductId'].unique()"
      ],
      "execution_count": 429,
      "outputs": [
        {
          "output_type": "execute_result",
          "data": {
            "text/plain": [
              "array(['ProductId_3', 'ProductId_15', 'ProductId_6', 'ProductId_10',\n",
              "       'ProductId_14', 'ProductId_1', 'ProductId_7', 'ProductId_4',\n",
              "       'ProductId_21', 'ProductId_8', 'ProductId_11', 'ProductId_19',\n",
              "       'ProductId_13', 'ProductId_24', 'ProductId_22', 'ProductId_20',\n",
              "       'ProductId_27', 'ProductId_2', 'ProductId_9', 'ProductId_26',\n",
              "       'ProductId_5', 'ProductId_25', 'ProductId_18', 'ProductId_17',\n",
              "       'ProductId_16', 'ProductId_23'], dtype=object)"
            ]
          },
          "metadata": {
            "tags": []
          },
          "execution_count": 429
        }
      ]
    },
    {
      "cell_type": "markdown",
      "metadata": {
        "id": "I72sb-taH3ht",
        "colab_type": "text"
      },
      "source": [
        "So it looks like there are no transactions with ProductId_17, ProductId_18, ProductId_25, ProductId_26 in the train set. We can also see that the test set does not contain a case with ProductId_12."
      ]
    },
    {
      "cell_type": "markdown",
      "metadata": {
        "id": "4vxj9hMLqmCM",
        "colab_type": "text"
      },
      "source": [
        "**ChannelId unique values**"
      ]
    },
    {
      "cell_type": "code",
      "metadata": {
        "id": "dSMM1V0RBuCq",
        "colab_type": "code",
        "colab": {
          "base_uri": "https://localhost:8080/",
          "height": 51
        },
        "outputId": "53d31944-7f2e-4a9b-ea6c-9163e10a2630"
      },
      "source": [
        "train['ChannelId'].unique()"
      ],
      "execution_count": 430,
      "outputs": [
        {
          "output_type": "execute_result",
          "data": {
            "text/plain": [
              "array(['ChannelId_3', 'ChannelId_2', 'ChannelId_1', 'ChannelId_5'],\n",
              "      dtype=object)"
            ]
          },
          "metadata": {
            "tags": []
          },
          "execution_count": 430
        }
      ]
    },
    {
      "cell_type": "code",
      "metadata": {
        "id": "eODj4Z5gBuIG",
        "colab_type": "code",
        "colab": {
          "base_uri": "https://localhost:8080/",
          "height": 51
        },
        "outputId": "5db773e7-47ef-4c54-ea2a-6356c6bea10b"
      },
      "source": [
        "test['ChannelId'].unique()"
      ],
      "execution_count": 431,
      "outputs": [
        {
          "output_type": "execute_result",
          "data": {
            "text/plain": [
              "array(['ChannelId_3', 'ChannelId_2', 'ChannelId_5', 'ChannelId_1',\n",
              "       'ChannelId_4'], dtype=object)"
            ]
          },
          "metadata": {
            "tags": []
          },
          "execution_count": 431
        }
      ]
    },
    {
      "cell_type": "markdown",
      "metadata": {
        "id": "_TmSutQaKWGS",
        "colab_type": "text"
      },
      "source": [
        "As we can see there are no transactions with ChannelId4 in the train set."
      ]
    },
    {
      "cell_type": "markdown",
      "metadata": {
        "id": "NGBs6Iyvqqxh",
        "colab_type": "text"
      },
      "source": [
        "**ProductCategory unique values**"
      ]
    },
    {
      "cell_type": "code",
      "metadata": {
        "id": "5l9MLCdrXzb1",
        "colab_type": "code",
        "colab": {
          "base_uri": "https://localhost:8080/",
          "height": 51
        },
        "outputId": "46dd4d9c-12e6-4492-d77c-b8d883085b1c"
      },
      "source": [
        "train['ProductCategory'].unique()"
      ],
      "execution_count": 432,
      "outputs": [
        {
          "output_type": "execute_result",
          "data": {
            "text/plain": [
              "array(['airtime', 'financial_services', 'utility_bill', 'data_bundles',\n",
              "       'tv', 'transport', 'ticket', 'movies', 'other'], dtype=object)"
            ]
          },
          "metadata": {
            "tags": []
          },
          "execution_count": 432
        }
      ]
    },
    {
      "cell_type": "code",
      "metadata": {
        "id": "2yCHh4HjXze4",
        "colab_type": "code",
        "colab": {
          "base_uri": "https://localhost:8080/",
          "height": 68
        },
        "outputId": "986b5f6d-94f2-4921-8c68-3c3f8a99a029"
      },
      "source": [
        "test['ProductCategory'].unique()"
      ],
      "execution_count": 433,
      "outputs": [
        {
          "output_type": "execute_result",
          "data": {
            "text/plain": [
              "array(['airtime', 'financial_services', 'tv', 'utility_bill',\n",
              "       'data_bundles', 'movies', 'ticket', 'retail', 'transport'],\n",
              "      dtype=object)"
            ]
          },
          "metadata": {
            "tags": []
          },
          "execution_count": 433
        }
      ]
    },
    {
      "cell_type": "markdown",
      "metadata": {
        "id": "Z4nceTvMYHuD",
        "colab_type": "text"
      },
      "source": [
        "There are no transactions with 'other' product category in the test set and there are notransactions with 'retail' product category in the train set."
      ]
    },
    {
      "cell_type": "code",
      "metadata": {
        "id": "n1lp7KnPBt8F",
        "colab_type": "code",
        "colab": {}
      },
      "source": [
        "X = pd.get_dummies(X, drop_first=True)"
      ],
      "execution_count": 0,
      "outputs": []
    },
    {
      "cell_type": "code",
      "metadata": {
        "id": "7PFM6z8r8f0Q",
        "colab_type": "code",
        "colab": {}
      },
      "source": [
        "X['ProductId_ProductId_17'] = 0\n",
        "X['ProductId_ProductId_18'] = 0\n",
        "X['ProductId_ProductId_25'] = 0\n",
        "X['ProductId_ProductId_26'] = 0\n",
        "X['ChannelId_ChannelId_4'] = 0\n",
        "X['ProductCategory_retail'] = 0"
      ],
      "execution_count": 0,
      "outputs": []
    },
    {
      "cell_type": "markdown",
      "metadata": {
        "id": "xsKQeQj1rssI",
        "colab_type": "text"
      },
      "source": [
        "Fixing the layout of the final X dataframe so that it is in order."
      ]
    },
    {
      "cell_type": "code",
      "metadata": {
        "id": "WicPxapWLC-d",
        "colab_type": "code",
        "colab": {}
      },
      "source": [
        "X = X[['Amount', 'Value', 'PricingStrategy', 'ProviderId_ProviderId_2', 'ProviderId_ProviderId_3', 'ProviderId_ProviderId_4', 'ProviderId_ProviderId_5', 'ProviderId_ProviderId_6',\n",
        "         'ProductId_ProductId_10', 'ProductId_ProductId_11', 'ProductId_ProductId_12', 'ProductId_ProductId_13', 'ProductId_ProductId_14', 'ProductId_ProductId_15', 'ProductId_ProductId_16',\n",
        "         'ProductId_ProductId_17', 'ProductId_ProductId_18', 'ProductId_ProductId_19', 'ProductId_ProductId_2', 'ProductId_ProductId_20', 'ProductId_ProductId_21', 'ProductId_ProductId_22', \n",
        "         'ProductId_ProductId_23', 'ProductId_ProductId_24', 'ProductId_ProductId_25', 'ProductId_ProductId_26', 'ProductId_ProductId_27', 'ProductCategory_data_bundles', \n",
        "         'ProductCategory_financial_services', 'ProductCategory_movies', 'ProductCategory_other', 'ProductCategory_ticket', 'ProductCategory_transport', 'ProductCategory_tv', \n",
        "         'ProductCategory_utility_bill', 'ProductCategory_retail', 'ChannelId_ChannelId_2', 'ChannelId_ChannelId_3', 'ChannelId_ChannelId_4', 'ChannelId_ChannelId_5']]"
      ],
      "execution_count": 0,
      "outputs": []
    },
    {
      "cell_type": "markdown",
      "metadata": {
        "id": "lcCiIl15OiYB",
        "colab_type": "text"
      },
      "source": [
        "**Splitting the data into a train and test set**"
      ]
    },
    {
      "cell_type": "code",
      "metadata": {
        "id": "IyG0BKl2LDE2",
        "colab_type": "code",
        "colab": {}
      },
      "source": [
        "X_train, X_test, y_train, y_test = train_test_split(X, y, test_size=0.8, random_state=42)"
      ],
      "execution_count": 0,
      "outputs": []
    },
    {
      "cell_type": "markdown",
      "metadata": {
        "id": "ibUbFKBBsAR1",
        "colab_type": "text"
      },
      "source": [
        "**Looking at the distribution of the target variable**\n",
        "\n",
        "We can see that almost all transactions are marked as not fraudulent. There are only a few cases of fraudulent transactions."
      ]
    },
    {
      "cell_type": "code",
      "metadata": {
        "id": "fbGYxuo6OfA5",
        "colab_type": "code",
        "colab": {
          "base_uri": "https://localhost:8080/",
          "height": 293
        },
        "outputId": "d0644d85-cd68-4d1c-8725-1c4853cdd270"
      },
      "source": [
        "plt.figure(figsize=[8,4])\n",
        "sns.countplot(x=y_train, palette='husl')\n",
        "plt.xticks(rotation=45)\n",
        "plt.show()"
      ],
      "execution_count": 438,
      "outputs": [
        {
          "output_type": "display_data",
          "data": {
            "image/png": "[encoded data removed]",
            "text/plain": [
              "<Figure size 576x288 with 1 Axes>"
            ]
          },
          "metadata": {
            "tags": []
          }
        }
      ]
    },
    {
      "cell_type": "markdown",
      "metadata": {
        "id": "RukNiKDqPr_L",
        "colab_type": "text"
      },
      "source": [
        "# Building models before resampling"
      ]
    },
    {
      "cell_type": "markdown",
      "metadata": {
        "id": "cqpWOpPjQ83s",
        "colab_type": "text"
      },
      "source": [
        "**Logistic Regression model before resampling data**"
      ]
    },
    {
      "cell_type": "code",
      "metadata": {
        "id": "t7Fv666XOfG6",
        "colab_type": "code",
        "colab": {
          "base_uri": "https://localhost:8080/",
          "height": 255
        },
        "outputId": "dffae0ab-1766-4884-f7ac-ec21ab8f7cc8"
      },
      "source": [
        "log_reg = LogisticRegression()\n",
        "params = {'C': [0.001, 0.01, 0.1, 1.0],\n",
        "          'solver': ['liblinear', 'sag', 'saga']}\n",
        "clf_logreg = GridSearchCV(estimator=log_reg, param_grid=params, n_jobs=-1)\n",
        "clf_logreg.fit(X_train, y_train)"
      ],
      "execution_count": 439,
      "outputs": [
        {
          "output_type": "execute_result",
          "data": {
            "text/plain": [
              "GridSearchCV(cv='warn', error_score='raise-deprecating',\n",
              "             estimator=LogisticRegression(C=1.0, class_weight=None, dual=False,\n",
              "                                          fit_intercept=True,\n",
              "                                          intercept_scaling=1, l1_ratio=None,\n",
              "                                          max_iter=100, multi_class='warn',\n",
              "                                          n_jobs=None, penalty='l2',\n",
              "                                          random_state=None, solver='warn',\n",
              "                                          tol=0.0001, verbose=0,\n",
              "                                          warm_start=False),\n",
              "             iid='warn', n_jobs=-1,\n",
              "             param_grid={'C': [0.001, 0.01, 0.1, 1.0],\n",
              "                         'solver': ['liblinear', 'sag', 'saga']},\n",
              "             pre_dispatch='2*n_jobs', refit=True, return_train_score=False,\n",
              "             scoring=None, verbose=0)"
            ]
          },
          "metadata": {
            "tags": []
          },
          "execution_count": 439
        }
      ]
    },
    {
      "cell_type": "code",
      "metadata": {
        "id": "BmaMZT1zPn00",
        "colab_type": "code",
        "colab": {
          "base_uri": "https://localhost:8080/",
          "height": 34
        },
        "outputId": "c15fc5f4-daf0-4a67-b368-fbd594a72248"
      },
      "source": [
        "clf_logreg.best_params_"
      ],
      "execution_count": 440,
      "outputs": [
        {
          "output_type": "execute_result",
          "data": {
            "text/plain": [
              "{'C': 0.01, 'solver': 'liblinear'}"
            ]
          },
          "metadata": {
            "tags": []
          },
          "execution_count": 440
        }
      ]
    },
    {
      "cell_type": "code",
      "metadata": {
        "id": "o3dMHKJpPn40",
        "colab_type": "code",
        "colab": {}
      },
      "source": [
        "y_pred_lgrg = clf_logreg.predict(X_test)"
      ],
      "execution_count": 0,
      "outputs": []
    },
    {
      "cell_type": "code",
      "metadata": {
        "id": "s_7hAhgAQk9O",
        "colab_type": "code",
        "colab": {
          "base_uri": "https://localhost:8080/",
          "height": 34
        },
        "outputId": "fa759fbc-e18b-47e5-a103-52caba466e9c"
      },
      "source": [
        "print('Accuracy:', accuracy_score(y_test, y_pred_lgrg))"
      ],
      "execution_count": 442,
      "outputs": [
        {
          "output_type": "stream",
          "text": [
            "Accuracy: 0.998405853913498\n"
          ],
          "name": "stdout"
        }
      ]
    },
    {
      "cell_type": "code",
      "metadata": {
        "id": "VPI0PJDlQyxE",
        "colab_type": "code",
        "colab": {
          "base_uri": "https://localhost:8080/",
          "height": 34
        },
        "outputId": "9139d73a-886a-4a2f-9e54-609f3e46dce1"
      },
      "source": [
        "print('F1_score:', f1_score(y_test, y_pred_lgrg))"
      ],
      "execution_count": 443,
      "outputs": [
        {
          "output_type": "stream",
          "text": [
            "F1_score: 0.46491228070175433\n"
          ],
          "name": "stdout"
        }
      ]
    },
    {
      "cell_type": "markdown",
      "metadata": {
        "id": "uZWXCtocRDPo",
        "colab_type": "text"
      },
      "source": [
        "**Random Forest model before resampling data**"
      ]
    },
    {
      "cell_type": "code",
      "metadata": {
        "id": "1ckiV3pYRCsu",
        "colab_type": "code",
        "colab": {
          "base_uri": "https://localhost:8080/",
          "height": 374
        },
        "outputId": "6938354c-f315-4bfe-eb94-10b373996300"
      },
      "source": [
        "ran_for = RandomForestClassifier()\n",
        "params = {'n_estimators': [2, 5, 10, 15],\n",
        "          'max_depth': [None, 2, 5, 8, 10, 20],\n",
        "          'max_features': ['auto', 'sqrt', 'log2', None],\n",
        "          #'n_jobs': [1, -1],\n",
        "          'random_state': [None, 42]}\n",
        "clf_forest = GridSearchCV(estimator=ran_for, param_grid=params, n_jobs=-1)\n",
        "clf_forest.fit(X_train, y_train)"
      ],
      "execution_count": 444,
      "outputs": [
        {
          "output_type": "execute_result",
          "data": {
            "text/plain": [
              "GridSearchCV(cv='warn', error_score='raise-deprecating',\n",
              "             estimator=RandomForestClassifier(bootstrap=True, class_weight=None,\n",
              "                                              criterion='gini', max_depth=None,\n",
              "                                              max_features='auto',\n",
              "                                              max_leaf_nodes=None,\n",
              "                                              min_impurity_decrease=0.0,\n",
              "                                              min_impurity_split=None,\n",
              "                                              min_samples_leaf=1,\n",
              "                                              min_samples_split=2,\n",
              "                                              min_weight_fraction_leaf=0.0,\n",
              "                                              n_estimators='warn', n_jobs=None,\n",
              "                                              oob_score=False,\n",
              "                                              random_state=None, verbose=0,\n",
              "                                              warm_start=False),\n",
              "             iid='warn', n_jobs=-1,\n",
              "             param_grid={'max_depth': [None, 2, 5, 8, 10, 20],\n",
              "                         'max_features': ['auto', 'sqrt', 'log2', None],\n",
              "                         'n_estimators': [2, 5, 10, 15],\n",
              "                         'random_state': [None, 42]},\n",
              "             pre_dispatch='2*n_jobs', refit=True, return_train_score=False,\n",
              "             scoring=None, verbose=0)"
            ]
          },
          "metadata": {
            "tags": []
          },
          "execution_count": 444
        }
      ]
    },
    {
      "cell_type": "code",
      "metadata": {
        "id": "rDY3W9pJRMG3",
        "colab_type": "code",
        "colab": {
          "base_uri": "https://localhost:8080/",
          "height": 85
        },
        "outputId": "ecbd73d6-2694-4294-b59e-353f51d374c3"
      },
      "source": [
        "clf_forest.best_params_"
      ],
      "execution_count": 445,
      "outputs": [
        {
          "output_type": "execute_result",
          "data": {
            "text/plain": [
              "{'max_depth': None,\n",
              " 'max_features': None,\n",
              " 'n_estimators': 5,\n",
              " 'random_state': None}"
            ]
          },
          "metadata": {
            "tags": []
          },
          "execution_count": 445
        }
      ]
    },
    {
      "cell_type": "code",
      "metadata": {
        "id": "JSS9DAF3RMQ1",
        "colab_type": "code",
        "colab": {}
      },
      "source": [
        "y_pred_forest = clf_forest.predict(X_test)"
      ],
      "execution_count": 0,
      "outputs": []
    },
    {
      "cell_type": "code",
      "metadata": {
        "id": "HqZUbwoUSxD7",
        "colab_type": "code",
        "colab": {
          "base_uri": "https://localhost:8080/",
          "height": 34
        },
        "outputId": "50925c94-6953-4d70-a120-121ddabeb278"
      },
      "source": [
        "print('Accuracy:', accuracy_score(y_test, y_pred_forest))"
      ],
      "execution_count": 447,
      "outputs": [
        {
          "output_type": "stream",
          "text": [
            "Accuracy: 0.9993858617535607\n"
          ],
          "name": "stdout"
        }
      ]
    },
    {
      "cell_type": "code",
      "metadata": {
        "id": "Lhl-E49qSxHQ",
        "colab_type": "code",
        "colab": {
          "base_uri": "https://localhost:8080/",
          "height": 34
        },
        "outputId": "2f2bd100-aa08-41de-d90e-5d20db5c7248"
      },
      "source": [
        "print('F1_score:', f1_score(y_test, y_pred_forest))"
      ],
      "execution_count": 448,
      "outputs": [
        {
          "output_type": "stream",
          "text": [
            "F1_score: 0.8327402135231317\n"
          ],
          "name": "stdout"
        }
      ]
    },
    {
      "cell_type": "markdown",
      "metadata": {
        "id": "NFurxSVbPwXz",
        "colab_type": "text"
      },
      "source": [
        "# Building models after resampling"
      ]
    },
    {
      "cell_type": "markdown",
      "metadata": {
        "id": "LKX2tb5ItE_8",
        "colab_type": "text"
      },
      "source": [
        "I've decided to use imblearn's Synthetic Minority Oversampling Technique to upsample my minority data class, 1 in this case."
      ]
    },
    {
      "cell_type": "code",
      "metadata": {
        "id": "mg-O3ahtPn7t",
        "colab_type": "code",
        "colab": {}
      },
      "source": [
        "sm = SMOTE(random_state=42)\n",
        "X_train_resampled, y_train_resampled = sm.fit_sample(X_train, y_train)"
      ],
      "execution_count": 0,
      "outputs": []
    },
    {
      "cell_type": "markdown",
      "metadata": {
        "id": "tjGq8yPktiui",
        "colab_type": "text"
      },
      "source": [
        "We can see that the classes are evenly distributed now."
      ]
    },
    {
      "cell_type": "code",
      "metadata": {
        "id": "tx3X8GmBOfLA",
        "colab_type": "code",
        "colab": {
          "base_uri": "https://localhost:8080/",
          "height": 276
        },
        "outputId": "530f53ca-5065-4525-b967-e12fdd7c758e"
      },
      "source": [
        "plt.figure(figsize=[8,4])\n",
        "sns.countplot(x=y_train_resampled, palette='husl')\n",
        "plt.xticks(rotation=45)\n",
        "plt.show()"
      ],
      "execution_count": 451,
      "outputs": [
        {
          "output_type": "display_data",
          "data": {
            "image/png": "[encoded data removed]",
            "text/plain": [
              "<Figure size 576x288 with 1 Axes>"
            ]
          },
          "metadata": {
            "tags": []
          }
        }
      ]
    },
    {
      "cell_type": "markdown",
      "metadata": {
        "id": "33T8Q8gQUcV0",
        "colab_type": "text"
      },
      "source": [
        "**Logistic Regression model after resampling data**"
      ]
    },
    {
      "cell_type": "code",
      "metadata": {
        "id": "BG4xdznbOfR9",
        "colab_type": "code",
        "colab": {
          "base_uri": "https://localhost:8080/",
          "height": 255
        },
        "outputId": "afde193a-b82d-4952-db8b-296c3b88379f"
      },
      "source": [
        "log_reg = LogisticRegression()\n",
        "params = {'C': [0.001, 0.01, 0.1, 1.0],\n",
        "         'solver': ['liblinear', 'sag', 'saga']}\n",
        "clf_logreg_resample = GridSearchCV(estimator=log_reg, param_grid=params, n_jobs=-1)\n",
        "clf_logreg_resample.fit(X_train_resampled, y_train_resampled)"
      ],
      "execution_count": 452,
      "outputs": [
        {
          "output_type": "execute_result",
          "data": {
            "text/plain": [
              "GridSearchCV(cv='warn', error_score='raise-deprecating',\n",
              "             estimator=LogisticRegression(C=1.0, class_weight=None, dual=False,\n",
              "                                          fit_intercept=True,\n",
              "                                          intercept_scaling=1, l1_ratio=None,\n",
              "                                          max_iter=100, multi_class='warn',\n",
              "                                          n_jobs=None, penalty='l2',\n",
              "                                          random_state=None, solver='warn',\n",
              "                                          tol=0.0001, verbose=0,\n",
              "                                          warm_start=False),\n",
              "             iid='warn', n_jobs=-1,\n",
              "             param_grid={'C': [0.001, 0.01, 0.1, 1.0],\n",
              "                         'solver': ['liblinear', 'sag', 'saga']},\n",
              "             pre_dispatch='2*n_jobs', refit=True, return_train_score=False,\n",
              "             scoring=None, verbose=0)"
            ]
          },
          "metadata": {
            "tags": []
          },
          "execution_count": 452
        }
      ]
    },
    {
      "cell_type": "code",
      "metadata": {
        "id": "I-zrIAIJU2CG",
        "colab_type": "code",
        "colab": {
          "base_uri": "https://localhost:8080/",
          "height": 34
        },
        "outputId": "107f0f63-f35b-4340-eba9-93cd44d4a980"
      },
      "source": [
        "clf_logreg_resample.best_params_"
      ],
      "execution_count": 453,
      "outputs": [
        {
          "output_type": "execute_result",
          "data": {
            "text/plain": [
              "{'C': 0.001, 'solver': 'liblinear'}"
            ]
          },
          "metadata": {
            "tags": []
          },
          "execution_count": 453
        }
      ]
    },
    {
      "cell_type": "code",
      "metadata": {
        "colab_type": "code",
        "id": "mba1wuwSUt7D",
        "colab": {}
      },
      "source": [
        "y_pred_lgrg_resample = clf_logreg_resample.predict(X_test)"
      ],
      "execution_count": 0,
      "outputs": []
    },
    {
      "cell_type": "code",
      "metadata": {
        "colab_type": "code",
        "outputId": "a5e1dd28-ea82-4d86-8af9-e940136edc29",
        "id": "Iv4Bf21VUt7F",
        "colab": {
          "base_uri": "https://localhost:8080/",
          "height": 34
        }
      },
      "source": [
        "print('Accuracy:', accuracy_score(y_test, y_pred_lgrg_resample))"
      ],
      "execution_count": 455,
      "outputs": [
        {
          "output_type": "stream",
          "text": [
            "Accuracy: 0.0019992159937279497\n"
          ],
          "name": "stdout"
        }
      ]
    },
    {
      "cell_type": "code",
      "metadata": {
        "colab_type": "code",
        "outputId": "05b00cc5-2c41-488f-e6dc-bbbf47157661",
        "id": "L6nGk4xrUt7K",
        "colab": {
          "base_uri": "https://localhost:8080/",
          "height": 34
        }
      },
      "source": [
        "print('F1_score:', f1_score(y_test, y_pred_lgrg_resample))"
      ],
      "execution_count": 456,
      "outputs": [
        {
          "output_type": "stream",
          "text": [
            "F1_score: 0.003990454207581863\n"
          ],
          "name": "stdout"
        }
      ]
    },
    {
      "cell_type": "markdown",
      "metadata": {
        "id": "dbdLZIhmt6jU",
        "colab_type": "text"
      },
      "source": [
        "The model performed even worse than before the resampling of the data was done."
      ]
    },
    {
      "cell_type": "markdown",
      "metadata": {
        "id": "P1B2z2tOVGV2",
        "colab_type": "text"
      },
      "source": [
        "**Random Forest model after resampling data**"
      ]
    },
    {
      "cell_type": "code",
      "metadata": {
        "id": "MNZDKvngUZCk",
        "colab_type": "code",
        "colab": {
          "base_uri": "https://localhost:8080/",
          "height": 374
        },
        "outputId": "a451ef83-9a7c-4028-b793-52597af13949"
      },
      "source": [
        "ran_for = RandomForestClassifier()\n",
        "params = {'n_estimators': [2, 5, 10, 15],\n",
        "          'max_depth': [None, 2, 5, 8, 10],\n",
        "          'max_features': ['auto', 'sqrt', 'log2', None],\n",
        "          'n_jobs': [1, -1],\n",
        "          'random_state': [None, 42]}\n",
        "clf_forest_resample = GridSearchCV(estimator=ran_for, param_grid=params, n_jobs=-1)\n",
        "clf_forest_resample.fit(X_train_resampled, y_train_resampled)"
      ],
      "execution_count": 351,
      "outputs": [
        {
          "output_type": "execute_result",
          "data": {
            "text/plain": [
              "GridSearchCV(cv='warn', error_score='raise-deprecating',\n",
              "             estimator=RandomForestClassifier(bootstrap=True, class_weight=None,\n",
              "                                              criterion='gini', max_depth=None,\n",
              "                                              max_features='auto',\n",
              "                                              max_leaf_nodes=None,\n",
              "                                              min_impurity_decrease=0.0,\n",
              "                                              min_impurity_split=None,\n",
              "                                              min_samples_leaf=1,\n",
              "                                              min_samples_split=2,\n",
              "                                              min_weight_fraction_leaf=0.0,\n",
              "                                              n_estimators='warn', n_jobs=None,\n",
              "                                              oob_score=False,\n",
              "                                              random_state=None, verbose=0,\n",
              "                                              warm_start=False),\n",
              "             iid='warn', n_jobs=-1,\n",
              "             param_grid={'max_depth': [None, 2, 5, 8, 10],\n",
              "                         'max_features': ['auto', 'sqrt', 'log2', None],\n",
              "                         'n_estimators': [2, 5, 10, 15], 'n_jobs': [1, -1],\n",
              "                         'random_state': [None, 42]},\n",
              "             pre_dispatch='2*n_jobs', refit=True, return_train_score=False,\n",
              "             scoring=None, verbose=0)"
            ]
          },
          "metadata": {
            "tags": []
          },
          "execution_count": 351
        }
      ]
    },
    {
      "cell_type": "code",
      "metadata": {
        "colab_type": "code",
        "id": "53nAFwexV5hi",
        "colab": {}
      },
      "source": [
        "y_pred_forest_resample = clf_forest_resample.predict(X_test)"
      ],
      "execution_count": 0,
      "outputs": []
    },
    {
      "cell_type": "code",
      "metadata": {
        "colab_type": "code",
        "outputId": "d6d68f74-ef41-494c-b103-8fee881f2361",
        "id": "CBGut0rQV5hm",
        "colab": {
          "base_uri": "https://localhost:8080/",
          "height": 34
        }
      },
      "source": [
        "print('Accuracy:', accuracy_score(y_test, y_pred_forest))"
      ],
      "execution_count": 353,
      "outputs": [
        {
          "output_type": "stream",
          "text": [
            "Accuracy: 0.9994773291519665\n"
          ],
          "name": "stdout"
        }
      ]
    },
    {
      "cell_type": "code",
      "metadata": {
        "colab_type": "code",
        "outputId": "4ea503e0-b052-4a92-a2fa-e4dc3a917e02",
        "id": "8FeKbIjpV5ht",
        "colab": {
          "base_uri": "https://localhost:8080/",
          "height": 34
        }
      },
      "source": [
        "print('F1_score:', f1_score(y_test, y_pred_forest_resample))"
      ],
      "execution_count": 354,
      "outputs": [
        {
          "output_type": "stream",
          "text": [
            "F1_score: 0.6473429951690821\n"
          ],
          "name": "stdout"
        }
      ]
    },
    {
      "cell_type": "markdown",
      "metadata": {
        "id": "SfD1zlYhuHgl",
        "colab_type": "text"
      },
      "source": [
        "Again the models accuracy declined after resampling was done."
      ]
    },
    {
      "cell_type": "markdown",
      "metadata": {
        "id": "r6Xmje11uWDQ",
        "colab_type": "text"
      },
      "source": [
        "# Preprocessing test data"
      ]
    },
    {
      "cell_type": "code",
      "metadata": {
        "id": "S_H0AYBz7LAz",
        "colab_type": "code",
        "colab": {
          "base_uri": "https://localhost:8080/",
          "height": 224
        },
        "outputId": "4255e0da-0019-4dcc-b986-f9e073713747"
      },
      "source": [
        "test.head()"
      ],
      "execution_count": 301,
      "outputs": [
        {
          "output_type": "execute_result",
          "data": {
            "text/html": [
              "<div>\n",
              "<style scoped>\n",
              "    .dataframe tbody tr th:only-of-type {\n",
              "        vertical-align: middle;\n",
              "    }\n",
              "\n",
              "    .dataframe tbody tr th {\n",
              "        vertical-align: top;\n",
              "    }\n",
              "\n",
              "    .dataframe thead th {\n",
              "        text-align: right;\n",
              "    }\n",
              "</style>\n",
              "<table border=\"1\" class=\"dataframe\">\n",
              "  <thead>\n",
              "    <tr style=\"text-align: right;\">\n",
              "      <th></th>\n",
              "      <th>TransactionId</th>\n",
              "      <th>BatchId</th>\n",
              "      <th>AccountId</th>\n",
              "      <th>SubscriptionId</th>\n",
              "      <th>CustomerId</th>\n",
              "      <th>CurrencyCode</th>\n",
              "      <th>CountryCode</th>\n",
              "      <th>ProviderId</th>\n",
              "      <th>ProductId</th>\n",
              "      <th>ProductCategory</th>\n",
              "      <th>ChannelId</th>\n",
              "      <th>Amount</th>\n",
              "      <th>Value</th>\n",
              "      <th>TransactionStartTime</th>\n",
              "      <th>PricingStrategy</th>\n",
              "    </tr>\n",
              "  </thead>\n",
              "  <tbody>\n",
              "    <tr>\n",
              "      <th>0</th>\n",
              "      <td>TransactionId_50600</td>\n",
              "      <td>BatchId_35028</td>\n",
              "      <td>AccountId_2441</td>\n",
              "      <td>SubscriptionId_4426</td>\n",
              "      <td>CustomerId_2857</td>\n",
              "      <td>UGX</td>\n",
              "      <td>256</td>\n",
              "      <td>ProviderId_5</td>\n",
              "      <td>ProductId_3</td>\n",
              "      <td>airtime</td>\n",
              "      <td>ChannelId_3</td>\n",
              "      <td>1000.0</td>\n",
              "      <td>1000</td>\n",
              "      <td>2019-02-13T10:01:40Z</td>\n",
              "      <td>4</td>\n",
              "    </tr>\n",
              "    <tr>\n",
              "      <th>1</th>\n",
              "      <td>TransactionId_95109</td>\n",
              "      <td>BatchId_45139</td>\n",
              "      <td>AccountId_3439</td>\n",
              "      <td>SubscriptionId_2643</td>\n",
              "      <td>CustomerId_3874</td>\n",
              "      <td>UGX</td>\n",
              "      <td>256</td>\n",
              "      <td>ProviderId_5</td>\n",
              "      <td>ProductId_15</td>\n",
              "      <td>financial_services</td>\n",
              "      <td>ChannelId_3</td>\n",
              "      <td>2000.0</td>\n",
              "      <td>2000</td>\n",
              "      <td>2019-02-13T10:02:12Z</td>\n",
              "      <td>2</td>\n",
              "    </tr>\n",
              "    <tr>\n",
              "      <th>2</th>\n",
              "      <td>TransactionId_47357</td>\n",
              "      <td>BatchId_74887</td>\n",
              "      <td>AccountId_4841</td>\n",
              "      <td>SubscriptionId_3829</td>\n",
              "      <td>CustomerId_2857</td>\n",
              "      <td>UGX</td>\n",
              "      <td>256</td>\n",
              "      <td>ProviderId_4</td>\n",
              "      <td>ProductId_6</td>\n",
              "      <td>financial_services</td>\n",
              "      <td>ChannelId_2</td>\n",
              "      <td>-50.0</td>\n",
              "      <td>50</td>\n",
              "      <td>2019-02-13T10:02:30Z</td>\n",
              "      <td>2</td>\n",
              "    </tr>\n",
              "    <tr>\n",
              "      <th>3</th>\n",
              "      <td>TransactionId_28185</td>\n",
              "      <td>BatchId_11025</td>\n",
              "      <td>AccountId_2685</td>\n",
              "      <td>SubscriptionId_4626</td>\n",
              "      <td>CustomerId_3105</td>\n",
              "      <td>UGX</td>\n",
              "      <td>256</td>\n",
              "      <td>ProviderId_5</td>\n",
              "      <td>ProductId_10</td>\n",
              "      <td>airtime</td>\n",
              "      <td>ChannelId_3</td>\n",
              "      <td>3000.0</td>\n",
              "      <td>3000</td>\n",
              "      <td>2019-02-13T10:02:38Z</td>\n",
              "      <td>4</td>\n",
              "    </tr>\n",
              "    <tr>\n",
              "      <th>4</th>\n",
              "      <td>TransactionId_22140</td>\n",
              "      <td>BatchId_29804</td>\n",
              "      <td>AccountId_4841</td>\n",
              "      <td>SubscriptionId_3829</td>\n",
              "      <td>CustomerId_3105</td>\n",
              "      <td>UGX</td>\n",
              "      <td>256</td>\n",
              "      <td>ProviderId_4</td>\n",
              "      <td>ProductId_6</td>\n",
              "      <td>financial_services</td>\n",
              "      <td>ChannelId_2</td>\n",
              "      <td>-60.0</td>\n",
              "      <td>60</td>\n",
              "      <td>2019-02-13T10:02:58Z</td>\n",
              "      <td>2</td>\n",
              "    </tr>\n",
              "  </tbody>\n",
              "</table>\n",
              "</div>"
            ],
            "text/plain": [
              "         TransactionId        BatchId  ...  TransactionStartTime PricingStrategy\n",
              "0  TransactionId_50600  BatchId_35028  ...  2019-02-13T10:01:40Z               4\n",
              "1  TransactionId_95109  BatchId_45139  ...  2019-02-13T10:02:12Z               2\n",
              "2  TransactionId_47357  BatchId_74887  ...  2019-02-13T10:02:30Z               2\n",
              "3  TransactionId_28185  BatchId_11025  ...  2019-02-13T10:02:38Z               4\n",
              "4  TransactionId_22140  BatchId_29804  ...  2019-02-13T10:02:58Z               2\n",
              "\n",
              "[5 rows x 15 columns]"
            ]
          },
          "metadata": {
            "tags": []
          },
          "execution_count": 301
        }
      ]
    },
    {
      "cell_type": "code",
      "metadata": {
        "id": "FhR-KRlT7LDy",
        "colab_type": "code",
        "colab": {
          "base_uri": "https://localhost:8080/",
          "height": 357
        },
        "outputId": "15a29afb-23ed-4316-a02c-79c77119ed97"
      },
      "source": [
        "test.info()"
      ],
      "execution_count": 302,
      "outputs": [
        {
          "output_type": "stream",
          "text": [
            "<class 'pandas.core.frame.DataFrame'>\n",
            "RangeIndex: 45019 entries, 0 to 45018\n",
            "Data columns (total 15 columns):\n",
            "TransactionId           45019 non-null object\n",
            "BatchId                 45019 non-null object\n",
            "AccountId               45019 non-null object\n",
            "SubscriptionId          45019 non-null object\n",
            "CustomerId              45019 non-null object\n",
            "CurrencyCode            45019 non-null object\n",
            "CountryCode             45019 non-null int64\n",
            "ProviderId              45019 non-null object\n",
            "ProductId               45019 non-null object\n",
            "ProductCategory         45019 non-null object\n",
            "ChannelId               45019 non-null object\n",
            "Amount                  45019 non-null float64\n",
            "Value                   45019 non-null int64\n",
            "TransactionStartTime    45019 non-null object\n",
            "PricingStrategy         45019 non-null int64\n",
            "dtypes: float64(1), int64(3), object(11)\n",
            "memory usage: 5.2+ MB\n"
          ],
          "name": "stdout"
        }
      ]
    },
    {
      "cell_type": "code",
      "metadata": {
        "id": "2Av0lr_M7SMw",
        "colab_type": "code",
        "colab": {}
      },
      "source": [
        "test_final = test[['ProviderId', 'ProductId', 'ProductCategory', 'ChannelId', 'Amount', 'Value', 'PricingStrategy']]"
      ],
      "execution_count": 0,
      "outputs": []
    },
    {
      "cell_type": "code",
      "metadata": {
        "id": "DwAGzZ1r7SPa",
        "colab_type": "code",
        "colab": {}
      },
      "source": [
        "test_final = pd.get_dummies(test_final, drop_first=True)"
      ],
      "execution_count": 0,
      "outputs": []
    },
    {
      "cell_type": "markdown",
      "metadata": {
        "id": "BLjWXVDRXcL0",
        "colab_type": "text"
      },
      "source": [
        "We saw earlier that the test data did not include ProductCategory_other and ProductId12, so we're adding it here now."
      ]
    },
    {
      "cell_type": "code",
      "metadata": {
        "id": "6GQujfE4Yy1g",
        "colab_type": "code",
        "colab": {}
      },
      "source": [
        "test_final['ProductCategory_other'] = 0"
      ],
      "execution_count": 0,
      "outputs": []
    },
    {
      "cell_type": "code",
      "metadata": {
        "id": "RJJFQ21Q7SR_",
        "colab_type": "code",
        "colab": {}
      },
      "source": [
        "test_final['ProductId_ProductId_12'] = 0"
      ],
      "execution_count": 0,
      "outputs": []
    },
    {
      "cell_type": "code",
      "metadata": {
        "id": "uAfBWpBTXDmh",
        "colab_type": "code",
        "colab": {}
      },
      "source": [
        "test_final = test_final[['Amount', 'Value', 'PricingStrategy', 'ProviderId_ProviderId_2', 'ProviderId_ProviderId_3', 'ProviderId_ProviderId_4', 'ProviderId_ProviderId_5', 'ProviderId_ProviderId_6',\n",
        "         'ProductId_ProductId_10', 'ProductId_ProductId_11', 'ProductId_ProductId_12', 'ProductId_ProductId_13', 'ProductId_ProductId_14', 'ProductId_ProductId_15', 'ProductId_ProductId_16',\n",
        "         'ProductId_ProductId_17', 'ProductId_ProductId_18', 'ProductId_ProductId_19', 'ProductId_ProductId_2', 'ProductId_ProductId_20', 'ProductId_ProductId_21', 'ProductId_ProductId_22', \n",
        "         'ProductId_ProductId_23', 'ProductId_ProductId_24', 'ProductId_ProductId_25', 'ProductId_ProductId_26', 'ProductId_ProductId_27', 'ProductCategory_data_bundles', \n",
        "         'ProductCategory_financial_services', 'ProductCategory_movies', 'ProductCategory_other', 'ProductCategory_ticket', 'ProductCategory_transport', 'ProductCategory_tv', \n",
        "         'ProductCategory_utility_bill', 'ProductCategory_retail', 'ChannelId_ChannelId_2', 'ChannelId_ChannelId_3', 'ChannelId_ChannelId_4', 'ChannelId_ChannelId_5']]"
      ],
      "execution_count": 0,
      "outputs": []
    },
    {
      "cell_type": "markdown",
      "metadata": {
        "id": "5kOrkeQgu0VV",
        "colab_type": "text"
      },
      "source": [
        "# Making predictions"
      ]
    },
    {
      "cell_type": "code",
      "metadata": {
        "id": "mtHqy6fnXDqZ",
        "colab_type": "code",
        "colab": {}
      },
      "source": [
        "final_predictions = clf_forest.predict(test_final)"
      ],
      "execution_count": 0,
      "outputs": []
    },
    {
      "cell_type": "markdown",
      "metadata": {
        "id": "KfNEn5WcmAW5",
        "colab_type": "text"
      },
      "source": [
        "# Submission"
      ]
    },
    {
      "cell_type": "code",
      "metadata": {
        "id": "DYWbv_K6mAvq",
        "colab_type": "code",
        "colab": {}
      },
      "source": [
        "submission = pd.DataFrame(columns=['TransactionId', 'FraudResult'])"
      ],
      "execution_count": 0,
      "outputs": []
    },
    {
      "cell_type": "code",
      "metadata": {
        "id": "zJDFFgfCmVhX",
        "colab_type": "code",
        "colab": {}
      },
      "source": [
        "submission['TransactionId'] = test['TransactionId']"
      ],
      "execution_count": 0,
      "outputs": []
    },
    {
      "cell_type": "code",
      "metadata": {
        "id": "QWO4Q2hkoxet",
        "colab_type": "code",
        "colab": {}
      },
      "source": [
        "submission['FraudResult'] = final_predictions"
      ],
      "execution_count": 0,
      "outputs": []
    },
    {
      "cell_type": "code",
      "metadata": {
        "id": "15knQ8Q3a-w2",
        "colab_type": "code",
        "colab": {
          "base_uri": "https://localhost:8080/",
          "height": 204
        },
        "outputId": "7c201483-9802-4e84-8d4b-f051e71a69c0"
      },
      "source": [
        "submission.head()"
      ],
      "execution_count": 347,
      "outputs": [
        {
          "output_type": "execute_result",
          "data": {
            "text/html": [
              "<div>\n",
              "<style scoped>\n",
              "    .dataframe tbody tr th:only-of-type {\n",
              "        vertical-align: middle;\n",
              "    }\n",
              "\n",
              "    .dataframe tbody tr th {\n",
              "        vertical-align: top;\n",
              "    }\n",
              "\n",
              "    .dataframe thead th {\n",
              "        text-align: right;\n",
              "    }\n",
              "</style>\n",
              "<table border=\"1\" class=\"dataframe\">\n",
              "  <thead>\n",
              "    <tr style=\"text-align: right;\">\n",
              "      <th></th>\n",
              "      <th>TransactionId</th>\n",
              "      <th>FraudResult</th>\n",
              "    </tr>\n",
              "  </thead>\n",
              "  <tbody>\n",
              "    <tr>\n",
              "      <th>0</th>\n",
              "      <td>TransactionId_50600</td>\n",
              "      <td>0</td>\n",
              "    </tr>\n",
              "    <tr>\n",
              "      <th>1</th>\n",
              "      <td>TransactionId_95109</td>\n",
              "      <td>0</td>\n",
              "    </tr>\n",
              "    <tr>\n",
              "      <th>2</th>\n",
              "      <td>TransactionId_47357</td>\n",
              "      <td>0</td>\n",
              "    </tr>\n",
              "    <tr>\n",
              "      <th>3</th>\n",
              "      <td>TransactionId_28185</td>\n",
              "      <td>0</td>\n",
              "    </tr>\n",
              "    <tr>\n",
              "      <th>4</th>\n",
              "      <td>TransactionId_22140</td>\n",
              "      <td>0</td>\n",
              "    </tr>\n",
              "  </tbody>\n",
              "</table>\n",
              "</div>"
            ],
            "text/plain": [
              "         TransactionId  FraudResult\n",
              "0  TransactionId_50600            0\n",
              "1  TransactionId_95109            0\n",
              "2  TransactionId_47357            0\n",
              "3  TransactionId_28185            0\n",
              "4  TransactionId_22140            0"
            ]
          },
          "metadata": {
            "tags": []
          },
          "execution_count": 347
        }
      ]
    },
    {
      "cell_type": "code",
      "metadata": {
        "id": "1fl-gwpRbEC_",
        "colab_type": "code",
        "colab": {}
      },
      "source": [
        "submission.to_csv('RandomForest.csv', index=False)"
      ],
      "execution_count": 0,
      "outputs": []
    },
    {
      "cell_type": "markdown",
      "metadata": {
        "id": "7Faas9O1u6H0",
        "colab_type": "text"
      },
      "source": [
        "# Downloading final submission file"
      ]
    },
    {
      "cell_type": "code",
      "metadata": {
        "id": "tc2Zb72kbMq_",
        "colab_type": "code",
        "colab": {}
      },
      "source": [
        "from google.colab import files"
      ],
      "execution_count": 0,
      "outputs": []
    },
    {
      "cell_type": "code",
      "metadata": {
        "id": "2f8aRDbrbiHJ",
        "colab_type": "code",
        "colab": {}
      },
      "source": [
        "files.download('RandomForest.csv')"
      ],
      "execution_count": 0,
      "outputs": []
    }
  ]
}